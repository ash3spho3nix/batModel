{
 "cells": [
  {
   "cell_type": "markdown",
   "id": "68058db4",
   "metadata": {},
   "source": [
    "####### LG Chem E66A\n",
    "- Pouch Cell\n",
    "- Nominal Capacity: 65 Ah\n",
    "- Minimum Capacity: 63.5 Ah\n",
    "- Current\n",
    "    - Continuous : 121 A\n",
    "    - peak       : 297 A\n",
    "- Energy : C/10 232.2 W\n",
    "\n",
    "(C/10 energy by discharging the cell at an ambient temperature of 25°C from 100% with a constant current of 6.50A (0.1C) until reaching the voltage of 2.5V. The thermal boundary condition is free convection.)\n",
    "- Power \n",
    "    - Continuous : 0.41 kW\n",
    "    - Peak       : 1.04 kW \n",
    "\n",
    "Peak power is for 5 minutes untill either voltage reaches minimum or cell surface temperature reaches $60^o$C\n",
    "- Current range : 325 A discharge - 98 A charge(5C to 1C)    \n",
    "- temperature range : $-20^o C$ to $60^o C$\n",
    "- Nominal Voltage: 3.657 V\n",
    "- Nominal energy: 237.7 Wh\n",
    "- Minimum energy: 232.2 Wh\n",
    "- Dimensions: 104 X 350 X 11.7 mm\n",
    "- Volume: 0,425880 L\n",
    "- Weight: 897 g\n",
    "- Volumetric Energy Density: 648 Wh/L\n",
    "- Gravimetric Energy Density: 259 Wh/kg\n",
    "- Chemistry: NCM 712"
   ]
  },
  {
   "cell_type": "code",
   "execution_count": 33,
   "id": "83b9ab8a",
   "metadata": {},
   "outputs": [],
   "source": [
    "import numpy as np\n",
    "import matplotlib_inline"
   ]
  },
  {
   "cell_type": "code",
   "execution_count": 34,
   "id": "4e3c6277",
   "metadata": {},
   "outputs": [],
   "source": [
    "class cell:\n",
    "    type = '' \n",
    "    C_nom = None\n",
    "    v_nom = None\n",
    "    I_cont = None\n",
    "    I_peak = None\n",
    "\n",
    "class config:\n",
    "    no_series = None\n",
    "    no_parralel = None\n",
    "\n",
    "class ESS:\n",
    "    def __init__(self, cell, config):\n",
    "        self.V_nom = round(cell.v_nom*config.no_series)\n",
    "        self.capacity = cell.C_nom*config.no_parralel\n",
    "        self.power = self.V_nom*self.capacity\n",
    "        self.max_charging = None"
   ]
  },
  {
   "cell_type": "code",
   "execution_count": 48,
   "id": "11a00104",
   "metadata": {},
   "outputs": [],
   "source": [
    "class charger:\n",
    "    def __init__(self, charging_type):\n",
    "        self.charging_type = charging_type\n",
    "        self.power = None\n",
    "        self.current = None\n",
    "        self.V = None"
   ]
  },
  {
   "cell_type": "code",
   "execution_count": 36,
   "id": "6b636a97",
   "metadata": {},
   "outputs": [
    {
     "name": "stdout",
     "output_type": "stream",
     "text": [
      "Battery pack for Audi etron with LG E66 cells\n",
      "Pack Voltage :  723 \n",
      "Pack Capacity :  129.2 \n",
      "Pack Power :  93.4\n"
     ]
    }
   ],
   "source": [
    "#cell configuration\n",
    "# cell configuration for LG E66 \n",
    "cell_LG= cell()\n",
    "cell_LG.C_nom = 64.6 # Ah\n",
    "cell_LG.I_peak = 98 #1.5C\n",
    "cell_LG.I_peak = 45 # 0.7C\n",
    "cell_LG.v_nom = 3.65151\n",
    "\n",
    "# Battery pack configuration\n",
    "# 198s2p\n",
    "config_AUDI=config()\n",
    "config_AUDI.no_parralel=2\n",
    "config_AUDI.no_series = 198\n",
    "\n",
    "# CCCV strategy for start and then limits will be imposed\n",
    "ess = ESS(cell_LG,config_AUDI)\n",
    "print('Battery pack for Audi etron with LG E66 cells')\n",
    "print('Pack Voltage : ',ess.V_nom,'\\nPack Capacity : ', ess.capacity,'\\nPack Power : ', round(ess.power/1000,1))   \n"
   ]
  },
  {
   "cell_type": "code",
   "execution_count": 49,
   "id": "0e73d170",
   "metadata": {},
   "outputs": [],
   "source": [
    "charger_AC_type2 = charger('AC')\n",
    "charger_AC_type2.power = 22 # 22kw charger\n",
    "charger_AC_type2.V = 230\n",
    "charger_AC_type2.current = 40\n",
    "\n",
    "charger_DFC = charger('DC')\n",
    "charger_DFC.power = 150\n",
    "charger_DFC.V=480\n",
    "charger_DFC.current = 200\n"
   ]
  },
  {
   "cell_type": "code",
   "execution_count": 43,
   "id": "ee75bb70",
   "metadata": {},
   "outputs": [],
   "source": [
    "ambient_temp = 25\n",
    "soh = 100\n",
    "t_range = [-20,-10,0,10,20,30,40,50]\n",
    "soc=np.arange(0,1,0.1)\n",
    "ocv = []\n",
    "#def min_current(ess, charging_pow):\n",
    "#    min(charging_pow, ess_ability, bms_limits)\n"
   ]
  },
  {
   "cell_type": "code",
   "execution_count": null,
   "id": "c43c1e09",
   "metadata": {},
   "outputs": [],
   "source": []
  }
 ],
 "metadata": {
  "interpreter": {
   "hash": "88279d2366fe020547cde40dd65aa0e3aa662a6ec1f3ca12d88834876c85e1a6"
  },
  "kernelspec": {
   "display_name": "Python 3.8.3 ('base')",
   "language": "python",
   "name": "python3"
  },
  "language_info": {
   "codemirror_mode": {
    "name": "ipython",
    "version": 3
   },
   "file_extension": ".py",
   "mimetype": "text/x-python",
   "name": "python",
   "nbconvert_exporter": "python",
   "pygments_lexer": "ipython3",
   "version": "3.8.3"
  }
 },
 "nbformat": 4,
 "nbformat_minor": 5
}
