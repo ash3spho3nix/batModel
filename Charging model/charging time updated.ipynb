{
 "cells": [
  {
   "cell_type": "markdown",
   "id": "d688d4dc",
   "metadata": {},
   "source": [
    "### Audi- etron GT charging time calculation\n",
    "\n",
    "BMS strategy of CCCV\n",
    "\n",
    "current limitations for cells are taken from online resources"
   ]
  },
  {
   "cell_type": "markdown",
   "id": "68058db4",
   "metadata": {},
   "source": [
    "##### LG Chem E66A\n",
    "- Pouch Cell\n",
    "- Nominal Capacity: 65 Ah\n",
    "- Minimum Capacity: 63.5 Ah\n",
    "- Current\n",
    "    - Continuous : 121 A\n",
    "    - peak       : 297 A\n",
    "- Energy : C/10 232.2 W\n",
    "\n",
    "(C/10 energy by discharging the cell at an ambient temperature of 25°C from 100% with a constant current of 6.50A (0.1C) until reaching the voltage of 2.5V. The thermal boundary condition is free convection.)\n",
    "- Power \n",
    "    - Continuous : 0.41 kW\n",
    "    - Peak       : 1.04 kW \n",
    "\n",
    "Peak power is for 5 minutes untill either voltage reaches minimum or cell surface temperature reaches $60^o$C\n",
    "- Current range : 325 A discharge - 98 A charge(5C to 1C)    \n",
    "- temperature range : $-20^o C$ to $60^o C$\n",
    "- Nominal Voltage: 3.657 V\n",
    "- Nominal energy: 237.7 Wh\n",
    "- Minimum energy: 232.2 Wh\n",
    "- Dimensions: 104 X 350 X 11.7 mm\n",
    "- Volume: 0,425880 L\n",
    "- Weight: 897 g\n",
    "- Volumetric Energy Density: 648 Wh/L\n",
    "- Gravimetric Energy Density: 259 Wh/kg\n",
    "- Chemistry: NCM 712"
   ]
  },
  {
   "cell_type": "code",
   "execution_count": 359,
   "id": "83b9ab8a",
   "metadata": {},
   "outputs": [],
   "source": [
    "import numpy as np\n",
    "from matplotlib import pyplot as plt\n",
    "from scipy import interpolate"
   ]
  },
  {
   "cell_type": "code",
   "execution_count": 360,
   "id": "4e3c6277",
   "metadata": {},
   "outputs": [],
   "source": [
    "class cell:\n",
    "    # values are currently used from literature, but in future\n",
    "    # values will be extracted from dataset\n",
    "    # OCV values - 25 degrees\n",
    "    type = 'NMC' \n",
    "    C_nom = None\n",
    "    v_nom = None\n",
    "    I_cont = None\n",
    "    I_peak = None\n",
    "    soh = None\n",
    "    soh_index =[1,0.5,0]\n",
    "    soc_reduction = [1,0.95,0.8]\n",
    "    soc = [0,2,4,6,8,10,15,20,25,30,35,40,45,50,55,60,65,70,75,80,\\\n",
    "                85,90,92,94,96,98,100]\n",
    "    ocv = [3.3,3.4,3.48,3.5,3.52,3.54,3.56,3.57, 3.58, 3.59, 3.61, 3.63,\\\n",
    "          3.64, 3.67, 3.7,3.725,3.75, 3.8, 3.85, 3.9, 3.95,4,4.04,4.08,4.12,4.16,4.2]\n",
    "    temp_range=[0,5,10,15,20,25,30,35,40,45,50]\n",
    "    R_mean_cont = 0.0025\n",
    "    R_mean_fast = 0.004\n",
    "    \n",
    "    def soc_estimate(cls,soh):\n",
    "        f = interpolate.interp1d(cls.soh_index,cls.soc_reduction)\n",
    "        soc = f(soh)*cls.soc\n",
    "        return soc\n",
    "    def R_estimate(cls,soh):\n",
    "        R_mean_cont = cls.R_mean_cont/soh\n",
    "        R_mean_fast = cls.R_mean_fast/soh\n",
    "        return R_mean_cont,R_mean_fast\n",
    "\n",
    "class ESS:\n",
    "    def __init__(self, cell):\n",
    "        self.V_nom = round(cell.v_nom*n_s)\n",
    "        self.capacity = cell.C_nom*n_p\n",
    "        self.power = self.V_nom*self.capacity\n",
    "        self.max_charging = None\n",
    "        \n",
    "class charger:\n",
    "    def __init__(self, charging_type):\n",
    "        self.charging_type = charging_type\n",
    "        self.power = None\n",
    "        self.cont_I = None\n",
    "        self.V = None\n",
    "        self.peak_I = None\n",
    "        self.peak_I_t = None\n",
    "        \n",
    "class bms_limits:\n",
    "    def __init__(self):\n",
    "    # Assuming charging is happening at 25-30 degrees\n",
    "        self.I_long = None\n",
    "        self.I_short = None\n",
    "        self.time_short = None\n",
    "        self.SoC = [0,10,20,30,40,45,50,60,70,80,90,100]\n",
    "        self.Temp = [ 0,10,15,25,45]"
   ]
  },
  {
   "cell_type": "code",
   "execution_count": 394,
   "id": "03222a0d",
   "metadata": {},
   "outputs": [],
   "source": [
    "def cs_type(args):\n",
    "    if args=='AC_type1':\n",
    "        cs = charger('AC_type1')\n",
    "        cs.power = 5000 # 22kw charger\n",
    "        cs.V = 230\n",
    "        cs.cont_I = 10.0 #Amp\n",
    "        cs.peak_I = 15.0 #Amp\n",
    "        cs.peak_I_t = 10.0 # minutes\n",
    "    elif args=='AC_type2':\n",
    "        cs = charger('AC_type2')\n",
    "        cs.power = 22000 # 22kw charger\n",
    "        cs.V = 230\n",
    "        cs.cont_I = 20.0 #Amp\n",
    "        cs.peak_I = 32.0 #Amp\n",
    "        cs.peak_I_t = 10.0 # minutes\n",
    "    elif args=='DC_type1':\n",
    "        cs = charger('DC_type1')\n",
    "        cs.power = 150000\n",
    "        cs.V=480\n",
    "        cs.cont_I = 200 #Amp\n",
    "        cs.peak_I = 350 #Amp\n",
    "        cs.peak_I_t = 20 # minutes\n",
    "    elif args=='DC_type2':\n",
    "        cs = charger('DC_type1')\n",
    "        cs.power = 270000\n",
    "        cs.V=480\n",
    "        cs.cont_I = 300 #Amp\n",
    "        cs.peak_I = 450 #Amp\n",
    "        cs.peak_I_t = 100 # minutes\n",
    "    \n",
    "    return cs"
   ]
  },
  {
   "cell_type": "code",
   "execution_count": 395,
   "id": "1788e5d3",
   "metadata": {},
   "outputs": [
    {
     "name": "stdout",
     "output_type": "stream",
     "text": [
      "Battery pack for Audi etron with LG E66 cells\n",
      "Pack Voltage :  723 \n",
      "Pack Capacity :  129.2 \n",
      "Pack Power :  93.4\n",
      "The Audi e-tron has an 11 kW on-board charger, which means that its maximum charging capability with AC is 11kW.\n"
     ]
    }
   ],
   "source": [
    "# bms configuration\n",
    "# CCCV strategy for start and then limits will be imposed\n",
    "bms_veh = bms_limits()\n",
    "bms_veh.I_long = [\\\n",
    "                  [0.15,0.15,0.15,0.15,0.15,0.15,0.1,0.08,0.06,0.05,0.02,0.0],\n",
    "                  [0.25,0.25,0.25,0.25,0.25,0.25,0.2,0.15,0.1,0.05,0.1,0.0],\n",
    "                  [0.5,0.5,0.5,0.5,0.5,0.5,0.5,0.4,0.25,0.15,0.05,0.0],\n",
    "                 [0.8,0.8,0.8,0.8,0.8,0.8,0.8,0.7,0.5,0.2,0.05,0.0],\n",
    "                 [0.8,0.8,0.8,0.8,0.8,0.8,0.8,0.6,0.4,0.2,0.05,0.0]]\n",
    "bms_veh.I_short = np.multiply(bms_veh.I_long,2)\n",
    "\n",
    "#cell configuration\n",
    "# cell configuration for LG E66 \n",
    "cell_LG= cell()\n",
    "cell_LG.C_nom = 64.6 # Ah\n",
    "cell_LG.I_peak = 98 #1.5C\n",
    "cell_LG.I_cont = 45 # 0.7C\n",
    "cell_LG.v_nom = 3.65151\n",
    "\n",
    "# Battery pack configuration\n",
    "# 198s2p\n",
    "n_p=2\n",
    "n_s = 198\n",
    "\n",
    "ess = ESS(cell_LG)\n",
    "print('Battery pack for Audi etron with LG E66 cells')\n",
    "print('Pack Voltage : ',ess.V_nom,'\\nPack Capacity : ', ess.capacity,'\\nPack Power : ', round(ess.power/1000,1))   \n",
    "print('The Audi e-tron has an 11 kW on-board charger, which means that its maximum charging capability with AC is 11kW.')"
   ]
  },
  {
   "cell_type": "markdown",
   "id": "0b04f8d4",
   "metadata": {},
   "source": [
    "1. extrapolate ocv soc\n",
    "2. find charing current from charger as per ESS voltage\n",
    "3. find charging ability of ESS\n",
    "4. find temperature rise and cooling power\n",
    "5. find minimum of current and find soc\n"
   ]
  },
  {
   "cell_type": "code",
   "execution_count": 396,
   "id": "1bd247e0",
   "metadata": {},
   "outputs": [],
   "source": [
    "def charging_time_calculate(cell_LG,cs,soc_min,soc_max,soc_init,T,charger_type,n_p,n_s):\n",
    "    # interpolation routine\n",
    "    cs=cs_type(charger_type)\n",
    "    ocv_interp = interpolate.interp1d(cell_LG.soc,cell_LG.ocv)\n",
    "    if charger_type.find('DC') !=-1:\n",
    "        curr_interp = interpolate.interp2d(bms_veh.SoC,bms_veh.Temp,bms_veh.I_short,kind='linear')\n",
    "        R=cell_LG.R_mean_fast\n",
    "    elif charger_type.find('AC') !=-1:\n",
    "        curr_interp = interpolate.interp2d(bms_veh.SoC,bms_veh.Temp,bms_veh.I_long,kind='linear')\n",
    "        R=cell_LG.R_mean_cont\n",
    "\n",
    "    # current from chargers\n",
    "    I_CS_limits =lambda t,peak_I,cont_I,t_peak,np : ((t<t_peak*60)*peak_I +(t>=t_peak*60)*cont_I)/np\n",
    "    # current limits due to BMS\n",
    "    I_bms = lambda T,soc : curr_interp(soc,T)\n",
    "\n",
    "    cell_voltage = lambda soc,I, R : ocv_interp(soc) + R*I\n",
    "    I_CS = lambda soc,I, power, np,ns : power/(cell_voltage(soc,I,R)*np*ns)\n",
    "\n",
    "    # main calculation\n",
    "    \n",
    "    I=0\n",
    "    t,dt= 0,1\n",
    "    v, soc, curr=[],[],[]\n",
    "    curr_soc = soc_init\n",
    "    curr_soc_n =  soc_init/100\n",
    "\n",
    "    while curr_soc_n*100<soc_max:\n",
    "        I_CS_cont = cs.cont_I/n_p\n",
    "        I_CS_lim = I_CS_limits(t,cs.peak_I,cs.cont_I,cs.peak_I_t,n_p)\n",
    "        I_CS_pow = I_CS(curr_soc,I,cs.power,n_p,n_s)\n",
    "        I_OBC_lim = I_CS(curr_soc,I,11000,n_p,n_s)\n",
    "        I_bms_lim = cell_LG.C_nom*float(I_bms(T,curr_soc_n*100))\n",
    "\n",
    "    #    print(I_OBC_lim,I_CS_cont, I_CS_lim,I_CS_pow, I_bms_lim,float(cell_LG.I_cont))\n",
    "        if charger_type.find('DC')!=-1:\n",
    "            I1 = np.min([I_CS_cont, I_CS_lim,I_CS_pow, I_bms_lim,float(cell_LG.I_peak)])\n",
    "        elif charger_type.find('AC')!=-1:\n",
    "            I1 = np.min([I_OBC_lim,I_CS_cont, I_CS_lim,I_CS_pow, I_bms_lim,float(cell_LG.I_peak)])\n",
    "    #    print(I1*dt/(cell_LG.C_nom))\n",
    "\n",
    "        curr_soc_n = curr_soc_n + I1*dt/(cell_LG.C_nom*3600) # for each cell\n",
    "    #    print(curr_soc_n*100)\n",
    "        t=t+dt\n",
    "        soc.append(curr_soc_n*100)\n",
    "        curr.append(I1)\n",
    "        v.append(ocv_interp(curr_soc_n*100))\n",
    "        I=I1\n",
    "        if I1<0.01*cell_LG.C_nom:\n",
    "            break\n",
    "\n",
    "    print('Time to charge battery pack of Audi-etron GT with LG E66A NMC Cells')\n",
    "    if t>=3600:\n",
    "        print('from ', soc_init,' to ',soc_max,': ', t/3600,' hours ')\n",
    "    elif t<3600 and t>60:\n",
    "        print('from ', soc_init,' to ',soc_max,': ', t/60,' minutes ')\n",
    "    return soc,curr,v,t"
   ]
  },
  {
   "cell_type": "code",
   "execution_count": 404,
   "id": "a8cff737",
   "metadata": {},
   "outputs": [],
   "source": [
    "# Input data \n",
    "# only edit this block for scenarios\n",
    "\n",
    "charger_type='AC_type2'\n",
    "soc_init= 10\n",
    "soc_max = 80\n",
    "soc_min = 10\n",
    "T=35\n",
    "#cell_LG.soh = 1\n",
    "#cell_LG.soc= cell_LG.soc_estimate(cell_LG.soh)\n",
    "#[cell_LG.R_mean_cont,cell_LG.R_mean_fast] = cell_LG.R_estimate(cell_LG.soh)"
   ]
  },
  {
   "cell_type": "code",
   "execution_count": 405,
   "id": "a799c64d",
   "metadata": {},
   "outputs": [
    {
     "name": "stdout",
     "output_type": "stream",
     "text": [
      "Time to charge battery pack of Audi-etron GT with LG E66A NMC Cells\n",
      "from  10  to  80 :  5.794722222222222  hours \n"
     ]
    }
   ],
   "source": [
    "[soc,curr,v,t]=charging_time_calculate(cell_LG,cs,soc_min,soc_max,soc_init,T,charger_type,n_p,n_s)"
   ]
  },
  {
   "cell_type": "code",
   "execution_count": 406,
   "id": "2a513e98",
   "metadata": {},
   "outputs": [],
   "source": [
    "#cs.cont_I/2,I_CS_limits(0,cs.peak_I,cs.cont_I,cs.peak_I_t,2),I_CS(soc_i,I,cs.power,n_p,n_s),float(cell_LG.C_nom*I_bms(T,soc_i))"
   ]
  },
  {
   "cell_type": "code",
   "execution_count": 407,
   "id": "ff33eae5",
   "metadata": {},
   "outputs": [
    {
     "data": {
      "text/plain": [
       "Text(0.5, 1.0, 'Voltage')"
      ]
     },
     "execution_count": 407,
     "metadata": {},
     "output_type": "execute_result"
    },
    {
     "data": {
      "image/png": "[encoded data removed]",
      "text/plain": [
       "<Figure size 1080x360 with 3 Axes>"
      ]
     },
     "metadata": {
      "needs_background": "light"
     },
     "output_type": "display_data"
    }
   ],
   "source": [
    "plt.figure(figsize=(15,5))\n",
    "plt.subplot(1, 3, 1)\n",
    "plt.plot(np.arange(0,t,1)/60,soc)\n",
    "plt.grid('on')\n",
    "plt.title('SoC')\n",
    "plt.subplot(1, 3, 2)\n",
    "plt.plot(np.arange(0,t,1)/60,np.multiply(curr,2))\n",
    "plt.grid('on')\n",
    "plt.title('Current')\n",
    "plt.subplot(1, 3, 3)\n",
    "plt.plot(np.arange(0,t,1)/60,v)#np.multiply(v,config_AUDI.no_series))\n",
    "plt.grid('on')\n",
    "plt.title('Voltage')"
   ]
  },
  {
   "cell_type": "code",
   "execution_count": null,
   "id": "aaf76b5d",
   "metadata": {},
   "outputs": [],
   "source": []
  }
 ],
 "metadata": {
  "interpreter": {
   "hash": "88279d2366fe020547cde40dd65aa0e3aa662a6ec1f3ca12d88834876c85e1a6"
  },
  "kernelspec": {
   "display_name": "Python 3 (ipykernel)",
   "language": "python",
   "name": "python3"
  },
  "language_info": {
   "codemirror_mode": {
    "name": "ipython",
    "version": 3
   },
   "file_extension": ".py",
   "mimetype": "text/x-python",
   "name": "python",
   "nbconvert_exporter": "python",
   "pygments_lexer": "ipython3",
   "version": "3.8.3"
  }
 },
 "nbformat": 4,
 "nbformat_minor": 5
}
